{
 "cells": [
  {
   "cell_type": "markdown",
   "metadata": {
    "pycharm": {
     "name": "#%% md\n"
    }
   },
   "source": [
    "### 1. Init the environment and import packages"
   ]
  },
  {
   "cell_type": "code",
   "execution_count": 577,
   "metadata": {
    "collapsed": true
   },
   "outputs": [],
   "source": [
    "import numpy as np\n",
    "import pandas as pd\n",
    "import seaborn as sns\n",
    "import matplotlib.pyplot as plt\n",
    "from sklearn.compose import make_column_transformer\n",
    "from sklearn.preprocessing import OneHotEncoder, StandardScaler, LabelBinarizer, LabelEncoder, OrdinalEncoder\n",
    "from sklearn.tree import DecisionTreeClassifier\n",
    "from sklearn.linear_model import LogisticRegression\n",
    "from sklearn.ensemble import RandomForestClassifier\n",
    "from sklearn.pipeline import Pipeline\n",
    "from sklearn.metrics import accuracy_score\n",
    "from sklearn.model_selection import cross_val_score\n",
    "from sklearn.model_selection import GridSearchCV\n",
    "from sklearn.metrics import classification_report, plot_confusion_matrix\n",
    "from sklearn.preprocessing import StandardScaler"
   ]
  },
  {
   "cell_type": "markdown",
   "metadata": {
    "pycharm": {
     "name": "#%% md\n"
    }
   },
   "source": [
    "### 2. Load the train.csv file, and look into some general information of these data"
   ]
  },
  {
   "cell_type": "code",
   "execution_count": 578,
   "metadata": {
    "pycharm": {
     "name": "#%%\n"
    }
   },
   "outputs": [
    {
     "name": "stdout",
     "output_type": "stream",
     "text": [
      "<class 'pandas.core.frame.DataFrame'>\n",
      "RangeIndex: 891 entries, 0 to 890\n",
      "Data columns (total 12 columns):\n",
      " #   Column       Non-Null Count  Dtype  \n",
      "---  ------       --------------  -----  \n",
      " 0   PassengerId  891 non-null    int64  \n",
      " 1   Survived     891 non-null    int64  \n",
      " 2   Pclass       891 non-null    int64  \n",
      " 3   Name         891 non-null    object \n",
      " 4   Sex          891 non-null    object \n",
      " 5   Age          714 non-null    float64\n",
      " 6   SibSp        891 non-null    int64  \n",
      " 7   Parch        891 non-null    int64  \n",
      " 8   Ticket       891 non-null    object \n",
      " 9   Fare         891 non-null    float64\n",
      " 10  Cabin        204 non-null    object \n",
      " 11  Embarked     889 non-null    object \n",
      "dtypes: float64(2), int64(5), object(5)\n",
      "memory usage: 83.7+ KB\n"
     ]
    }
   ],
   "source": [
    "# Load the dataset csv file\n",
    "train_data = pd.read_csv('../dataset/train.csv')\n",
    "train_data.info()\n",
    "test_data = pd.read_csv('../dataset/test.csv')"
   ]
  },
  {
   "cell_type": "code",
   "execution_count": 579,
   "metadata": {
    "pycharm": {
     "name": "#%%\n"
    }
   },
   "outputs": [
    {
     "name": "stdout",
     "output_type": "stream",
     "text": [
      "     PassengerId  Survived  Pclass   Age  SibSp  Parch     Fare\n",
      "0              1         0       3  22.0      1      0   7.2500\n",
      "1              2         1       1  38.0      1      0  71.2833\n",
      "2              3         1       3  26.0      0      0   7.9250\n",
      "3              4         1       1  35.0      1      0  53.1000\n",
      "4              5         0       3  35.0      0      0   8.0500\n",
      "..           ...       ...     ...   ...    ...    ...      ...\n",
      "886          887         0       2  27.0      0      0  13.0000\n",
      "887          888         1       1  19.0      0      0  30.0000\n",
      "888          889         0       3   NaN      1      2  23.4500\n",
      "889          890         1       1  26.0      0      0  30.0000\n",
      "890          891         0       3  32.0      0      0   7.7500\n",
      "\n",
      "[891 rows x 7 columns]\n"
     ]
    }
   ],
   "source": [
    "# Retrieve all the numeric columns\n",
    "train_data.describe()\n",
    "dtypes = train_data.select_dtypes(include=np.number)\n",
    "print(dtypes)"
   ]
  },
  {
   "cell_type": "markdown",
   "metadata": {
    "pycharm": {
     "name": "#%% md\n"
    }
   },
   "source": [
    "### 3. Look into the numeric features"
   ]
  },
  {
   "cell_type": "code",
   "execution_count": 580,
   "metadata": {
    "pycharm": {
     "name": "#%%\n"
    }
   },
   "outputs": [
    {
     "data": {
      "text/plain": "              Age       SibSp       Parch        Fare\ncount  714.000000  891.000000  891.000000  891.000000\nmean    29.699118    0.523008    0.381594   32.204208\nstd     14.526497    1.102743    0.806057   49.693429\nmin      0.420000    0.000000    0.000000    0.000000\n25%     20.125000    0.000000    0.000000    7.910400\n50%     28.000000    0.000000    0.000000   14.454200\n75%     38.000000    1.000000    0.000000   31.000000\nmax     80.000000    8.000000    6.000000  512.329200",
      "text/html": "<div>\n<style scoped>\n    .dataframe tbody tr th:only-of-type {\n        vertical-align: middle;\n    }\n\n    .dataframe tbody tr th {\n        vertical-align: top;\n    }\n\n    .dataframe thead th {\n        text-align: right;\n    }\n</style>\n<table border=\"1\" class=\"dataframe\">\n  <thead>\n    <tr style=\"text-align: right;\">\n      <th></th>\n      <th>Age</th>\n      <th>SibSp</th>\n      <th>Parch</th>\n      <th>Fare</th>\n    </tr>\n  </thead>\n  <tbody>\n    <tr>\n      <th>count</th>\n      <td>714.000000</td>\n      <td>891.000000</td>\n      <td>891.000000</td>\n      <td>891.000000</td>\n    </tr>\n    <tr>\n      <th>mean</th>\n      <td>29.699118</td>\n      <td>0.523008</td>\n      <td>0.381594</td>\n      <td>32.204208</td>\n    </tr>\n    <tr>\n      <th>std</th>\n      <td>14.526497</td>\n      <td>1.102743</td>\n      <td>0.806057</td>\n      <td>49.693429</td>\n    </tr>\n    <tr>\n      <th>min</th>\n      <td>0.420000</td>\n      <td>0.000000</td>\n      <td>0.000000</td>\n      <td>0.000000</td>\n    </tr>\n    <tr>\n      <th>25%</th>\n      <td>20.125000</td>\n      <td>0.000000</td>\n      <td>0.000000</td>\n      <td>7.910400</td>\n    </tr>\n    <tr>\n      <th>50%</th>\n      <td>28.000000</td>\n      <td>0.000000</td>\n      <td>0.000000</td>\n      <td>14.454200</td>\n    </tr>\n    <tr>\n      <th>75%</th>\n      <td>38.000000</td>\n      <td>1.000000</td>\n      <td>0.000000</td>\n      <td>31.000000</td>\n    </tr>\n    <tr>\n      <th>max</th>\n      <td>80.000000</td>\n      <td>8.000000</td>\n      <td>6.000000</td>\n      <td>512.329200</td>\n    </tr>\n  </tbody>\n</table>\n</div>"
     },
     "execution_count": 580,
     "metadata": {},
     "output_type": "execute_result"
    }
   ],
   "source": [
    "# Separate numeric columns\n",
    "df_num = train_data[['Age', 'SibSp', 'Parch', 'Fare']]\n",
    "df_num.describe()\n"
   ]
  },
  {
   "cell_type": "code",
   "execution_count": 581,
   "metadata": {
    "pycharm": {
     "name": "#%%\n"
    }
   },
   "outputs": [
    {
     "data": {
      "text/plain": "<Figure size 432x288 with 1 Axes>",
      "image/png": "[encoded data removed]"
     },
     "metadata": {
      "needs_background": "light"
     },
     "output_type": "display_data"
    },
    {
     "data": {
      "text/plain": "<Figure size 432x288 with 1 Axes>",
      "image/png": "[encoded data removed]"
     },
     "metadata": {
      "needs_background": "light"
     },
     "output_type": "display_data"
    },
    {
     "data": {
      "text/plain": "<Figure size 432x288 with 1 Axes>",
      "image/png": "[encoded data removed]"
     },
     "metadata": {
      "needs_background": "light"
     },
     "output_type": "display_data"
    },
    {
     "data": {
      "text/plain": "<Figure size 432x288 with 1 Axes>",
      "image/png": "[encoded data removed]"
     },
     "metadata": {
      "needs_background": "light"
     },
     "output_type": "display_data"
    }
   ],
   "source": [
    "# Show stats of each numeric column\n",
    "for i in df_num.columns:\n",
    "    sns.histplot(data=train_data, x=df_num[i], kde=True)\n",
    "    plt.show()\n"
   ]
  },
  {
   "cell_type": "code",
   "execution_count": 582,
   "metadata": {
    "pycharm": {
     "name": "#%%\n"
    }
   },
   "outputs": [
    {
     "name": "stdout",
     "output_type": "stream",
     "text": [
      "            Age     SibSp     Parch      Fare\n",
      "Age    1.000000 -0.308247 -0.189119  0.096067\n",
      "SibSp -0.308247  1.000000  0.414838  0.159651\n",
      "Parch -0.189119  0.414838  1.000000  0.216225\n",
      "Fare   0.096067  0.159651  0.216225  1.000000\n"
     ]
    },
    {
     "data": {
      "text/plain": "<AxesSubplot:>"
     },
     "execution_count": 582,
     "metadata": {},
     "output_type": "execute_result"
    },
    {
     "data": {
      "text/plain": "<Figure size 432x288 with 2 Axes>",
      "image/png": "[encoded data removed]"
     },
     "metadata": {
      "needs_background": "light"
     },
     "output_type": "display_data"
    }
   ],
   "source": [
    "corr = df_num.corr()\n",
    "print(corr)\n",
    "sns.heatmap(corr)\n"
   ]
  },
  {
   "cell_type": "code",
   "execution_count": 583,
   "metadata": {
    "pycharm": {
     "name": "#%%\n"
    }
   },
   "outputs": [
    {
     "data": {
      "text/plain": "               mean                                median                  \n                Age       Fare     Parch     SibSp    Age  Fare Parch SibSp\nSurvived                                                                   \n0         30.626179  22.117887  0.329690  0.553734   28.0  10.5     0     0\n1         28.343690  48.395408  0.464912  0.473684   28.0  26.0     0     0",
      "text/html": "<div>\n<style scoped>\n    .dataframe tbody tr th:only-of-type {\n        vertical-align: middle;\n    }\n\n    .dataframe tbody tr th {\n        vertical-align: top;\n    }\n\n    .dataframe thead tr th {\n        text-align: left;\n    }\n\n    .dataframe thead tr:last-of-type th {\n        text-align: right;\n    }\n</style>\n<table border=\"1\" class=\"dataframe\">\n  <thead>\n    <tr>\n      <th></th>\n      <th colspan=\"4\" halign=\"left\">mean</th>\n      <th colspan=\"4\" halign=\"left\">median</th>\n    </tr>\n    <tr>\n      <th></th>\n      <th>Age</th>\n      <th>Fare</th>\n      <th>Parch</th>\n      <th>SibSp</th>\n      <th>Age</th>\n      <th>Fare</th>\n      <th>Parch</th>\n      <th>SibSp</th>\n    </tr>\n    <tr>\n      <th>Survived</th>\n      <th></th>\n      <th></th>\n      <th></th>\n      <th></th>\n      <th></th>\n      <th></th>\n      <th></th>\n      <th></th>\n    </tr>\n  </thead>\n  <tbody>\n    <tr>\n      <th>0</th>\n      <td>30.626179</td>\n      <td>22.117887</td>\n      <td>0.329690</td>\n      <td>0.553734</td>\n      <td>28.0</td>\n      <td>10.5</td>\n      <td>0</td>\n      <td>0</td>\n    </tr>\n    <tr>\n      <th>1</th>\n      <td>28.343690</td>\n      <td>48.395408</td>\n      <td>0.464912</td>\n      <td>0.473684</td>\n      <td>28.0</td>\n      <td>26.0</td>\n      <td>0</td>\n      <td>0</td>\n    </tr>\n  </tbody>\n</table>\n</div>"
     },
     "execution_count": 583,
     "metadata": {},
     "output_type": "execute_result"
    }
   ],
   "source": [
    "# Show stats in different numerics by survival.\n",
    "pd.pivot_table(train_data, index=['Survived'], values=['Age', 'SibSp', 'Parch', 'Fare'], aggfunc=['mean', 'median'])\n"
   ]
  },
  {
   "cell_type": "markdown",
   "metadata": {
    "pycharm": {
     "name": "#%% md\n"
    }
   },
   "source": [
    "### 4. show categorial features\n",
    "\n",
    "After analyzed all the data, we can see some categorial columns that contribute to the survived result significantly.\n",
    "There are three columns thate are obviously related to the survived result.\n",
    "1. Pclass: survived ratios are 62.96% for 1st class, 47.28% for 2nd class and 24.24% for 3rd class.\n",
    "2. Sex: survived ratio are 74.20% for female and 18.89% for male.\n",
    "3. Embarked: survived rate are 10.44% for embarked at C, 38.96% for embarked at Q and 33.70% for embarked at S ."
   ]
  },
  {
   "cell_type": "code",
   "execution_count": 584,
   "metadata": {
    "pycharm": {
     "name": "#%%\n"
    }
   },
   "outputs": [
    {
     "name": "stdout",
     "output_type": "stream",
     "text": [
      "<class 'pandas.core.frame.DataFrame'>\n",
      "RangeIndex: 891 entries, 0 to 890\n",
      "Data columns (total 7 columns):\n",
      " #   Column    Non-Null Count  Dtype \n",
      "---  ------    --------------  ----- \n",
      " 0   Survived  891 non-null    int64 \n",
      " 1   Pclass    891 non-null    int64 \n",
      " 2   Name      891 non-null    object\n",
      " 3   Sex       891 non-null    object\n",
      " 4   Ticket    891 non-null    object\n",
      " 5   Cabin     204 non-null    object\n",
      " 6   Embarked  889 non-null    object\n",
      "dtypes: int64(2), object(5)\n",
      "memory usage: 48.9+ KB\n"
     ]
    }
   ],
   "source": [
    "# Separate category columns\n",
    "df_cat = train_data[['Survived', 'Pclass', 'Name', 'Sex', 'Ticket', 'Cabin', 'Embarked']]\n",
    "df_cat.info()\n"
   ]
  },
  {
   "cell_type": "code",
   "execution_count": 585,
   "metadata": {
    "pycharm": {
     "name": "#%%\n"
    }
   },
   "outputs": [
    {
     "data": {
      "text/plain": "<Figure size 432x288 with 1 Axes>",
      "image/png": "[encoded data removed]"
     },
     "metadata": {
      "needs_background": "light"
     },
     "output_type": "display_data"
    },
    {
     "data": {
      "text/plain": "<Figure size 432x288 with 1 Axes>",
      "image/png": "[encoded data removed]"
     },
     "metadata": {
      "needs_background": "light"
     },
     "output_type": "display_data"
    },
    {
     "data": {
      "text/plain": "<Figure size 432x288 with 1 Axes>",
      "image/png": "[encoded data removed]"
     },
     "metadata": {
      "needs_background": "light"
     },
     "output_type": "display_data"
    },
    {
     "data": {
      "text/plain": "<Figure size 432x288 with 1 Axes>",
      "image/png": "[encoded data removed]"
     },
     "metadata": {
      "needs_background": "light"
     },
     "output_type": "display_data"
    },
    {
     "data": {
      "text/plain": "<Figure size 432x288 with 1 Axes>",
      "image/png": "[encoded data removed]"
     },
     "metadata": {
      "needs_background": "light"
     },
     "output_type": "display_data"
    },
    {
     "data": {
      "text/plain": "<Figure size 432x288 with 1 Axes>",
      "image/png": "[encoded data removed]"
     },
     "metadata": {
      "needs_background": "light"
     },
     "output_type": "display_data"
    },
    {
     "data": {
      "text/plain": "<Figure size 432x288 with 1 Axes>",
      "image/png": "[encoded data removed]"
     },
     "metadata": {
      "needs_background": "light"
     },
     "output_type": "display_data"
    }
   ],
   "source": [
    "# Show stats of each category colums\n",
    "for i in df_cat.columns:\n",
    "    sns.barplot(x=df_cat[i].value_counts().index, y=df_cat[i].value_counts()).set_title(i)\n",
    "    plt.show()\n"
   ]
  },
  {
   "cell_type": "code",
   "execution_count": 586,
   "outputs": [
    {
     "name": "stdout",
     "output_type": "stream",
     "text": [
      "the first class survived ratio among all passengers is 0.1526374859708193, the survived ratio among all first class passengers is 0.6296296296296297\n",
      "the second class survived ratio among all passengers is 0.09764309764309764, the survived ratio among all second class passengers is 0.47282608695652173\n",
      "the third class survived ratio among all passengers is 0.1335578002244669, the survived ratio among all third class passengers is 0.24236252545824846\n"
     ]
    }
   ],
   "source": [
    "# Compute the suvived ratio of each Pclass. Though the total people in 3rd class is much more than the 1st class, the number of survived\n",
    "# people is reversed.\n",
    "# In terms of survived ratio between each Pclass, they are 62.96% for 1st class, 47.28% for 2nd class and 24.24% for 3rd class.\n",
    "first_cls_survived = train_data.loc[train_data.Pclass == 1]['Survived']\n",
    "first_cls_survived_ratio = sum(first_cls_survived) / len(first_cls_survived)\n",
    "first_cls_survived_ratio_ofall = sum(first_cls_survived) / len(train_data)\n",
    "print('the first class survived ratio among all passengers is {}, the survived ratio among all first class passengers is {}'.format\n",
    "      (first_cls_survived_ratio_ofall, first_cls_survived_ratio))\n",
    "\n",
    "second_cls_survived = train_data.loc[train_data.Pclass == 2]['Survived']\n",
    "second_cls_survived_ratio = sum(second_cls_survived) / len(second_cls_survived)\n",
    "second_cls_survived_ratio_ofall = sum(second_cls_survived) / len(train_data)\n",
    "print('the second class survived ratio among all passengers is {}, the survived ratio among all second class passengers is {}'.format\n",
    "      (second_cls_survived_ratio_ofall, second_cls_survived_ratio))\n",
    "\n",
    "third_cls_survived = train_data.loc[train_data.Pclass == 3]['Survived']\n",
    "third_cls_survived_ratio = sum(third_cls_survived) / len(third_cls_survived)\n",
    "thrid_cls_survived_ratio_ofall = sum(third_cls_survived) / len(train_data)\n",
    "print('the third class survived ratio among all passengers is {}, the survived ratio among all third class passengers is {}'.format\n",
    "      (thrid_cls_survived_ratio_ofall, third_cls_survived_ratio))"
   ],
   "metadata": {
    "collapsed": false,
    "pycharm": {
     "name": "#%%\n"
    }
   }
  },
  {
   "cell_type": "code",
   "execution_count": 587,
   "metadata": {
    "pycharm": {
     "name": "#%%\n"
    }
   },
   "outputs": [
    {
     "data": {
      "text/plain": "Survived  Sex   \n0         female     81\n          male      468\n1         female    233\n          male      109\ndtype: int64"
     },
     "execution_count": 587,
     "metadata": {},
     "output_type": "execute_result"
    }
   ],
   "source": [
    "# Show how many people survived or not in each Sex\n",
    "# The result shows that female survived much more than male. Among the female, the survived ratio is 74.20%, compared to 18.89% of male\n",
    "train_data.groupby(['Survived', 'Sex']).size()\n"
   ]
  },
  {
   "cell_type": "code",
   "execution_count": 588,
   "outputs": [
    {
     "name": "stdout",
     "output_type": "stream",
     "text": [
      "the female survived ratio among all passengers is 0.2615039281705948, the survived ratio among all female passengers is 0.7420382165605095\n",
      "the male survived ratio among all passengers is 0.122334455667789, the survived ratio among all male passengers is 0.18890814558058924\n"
     ]
    }
   ],
   "source": [
    "# Compute the survived ratio of each Sex type\n",
    "female_survived = train_data.loc[train_data.Sex == 'female']['Survived']\n",
    "female_survived_ratio = sum(female_survived) / len(female_survived)\n",
    "female_survived_ratio_ofall = sum(female_survived) / len(train_data)\n",
    "print('the female survived ratio among all passengers is {}, the survived ratio among all female passengers is {}'.format\n",
    "      (female_survived_ratio_ofall, female_survived_ratio))\n",
    "\n",
    "male_survived = train_data[train_data.Sex == 'male']['Survived']\n",
    "male_survived_ratio = sum(male_survived) / len(male_survived)\n",
    "male_survived_ratio_ofall = sum(male_survived) / len(train_data)\n",
    "print('the male survived ratio among all passengers is {}, the survived ratio among all male passengers is {}'.format\n",
    "      (male_survived_ratio_ofall, male_survived_ratio))\n"
   ],
   "metadata": {
    "collapsed": false,
    "pycharm": {
     "name": "#%%\n"
    }
   }
  },
  {
   "cell_type": "code",
   "execution_count": 589,
   "metadata": {
    "pycharm": {
     "name": "#%%\n"
    }
   },
   "outputs": [
    {
     "data": {
      "text/plain": "Survived  Embarked\n0         C            75\n          Q            47\n          S           427\n1         C            93\n          Q            30\n          S           217\ndtype: int64"
     },
     "execution_count": 589,
     "metadata": {},
     "output_type": "execute_result"
    }
   ],
   "source": [
    "# Embarked: (C = Cherbourg; Q =Queenstown; S =Southampton)\n",
    "# The result shows that people embarked at Southampton have the least chance to survive.\n",
    "train_data.groupby(['Survived', 'Embarked']).size()"
   ]
  },
  {
   "cell_type": "code",
   "execution_count": 590,
   "outputs": [
    {
     "name": "stdout",
     "output_type": "stream",
     "text": [
      "the embarked at C survived ratio among all passengers is 0.10437710437710437, the survived ratio among all embarked at C passengers is 0.10437710437710437\n",
      "the embarked at Q survived ratio among all passengers is 0.03367003367003367, the survived ratio among all embarked at Q passengers is 0.38961038961038963\n",
      "the embarked at S survived ratio among all passengers is 0.24354657687991021, the survived ratio among all embarked at S passengers is 0.33695652173913043\n"
     ]
    }
   ],
   "source": [
    "# Compute the survived ratio of each Embarked\n",
    "c_survived = train_data.loc[train_data.Embarked == 'C']['Survived']\n",
    "c_survived_ratio = sum(c_survived) / len(c_survived)\n",
    "c_survived_ratio_ofall = sum(c_survived) / len(train_data)\n",
    "print('the embarked at C survived ratio among all passengers is {}, the survived ratio among all embarked at C passengers is {}'.format\n",
    "      (c_survived_ratio_ofall, c_survived_ratio_ofall))\n",
    "\n",
    "q_survived = train_data.loc[train_data.Embarked == 'Q']['Survived']\n",
    "q_survived_ratio = sum(q_survived) / len(q_survived)\n",
    "q_survived_ratio_ofall = sum(q_survived) / len(train_data)\n",
    "print('the embarked at Q survived ratio among all passengers is {}, the survived ratio among all embarked at Q passengers is {}'.format\n",
    "      (q_survived_ratio_ofall, q_survived_ratio))\n",
    "\n",
    "s_survived = train_data.loc[train_data.Embarked == 'S']['Survived']\n",
    "s_survived_ratio = sum(s_survived) / len(s_survived)\n",
    "s_survived_ratio_ofall = sum(s_survived) / len(train_data)\n",
    "print('the embarked at S survived ratio among all passengers is {}, the survived ratio among all embarked at S passengers is {}'.format\n",
    "      (s_survived_ratio_ofall, s_survived_ratio))\n"
   ],
   "metadata": {
    "collapsed": false,
    "pycharm": {
     "name": "#%%\n"
    }
   }
  },
  {
   "cell_type": "markdown",
   "metadata": {
    "pycharm": {
     "name": "#%% md\n"
    }
   },
   "source": [
    "### 5. Feature Engineering\n",
    "\n",
    "We have missing values for Age, Cabin in all dataset, only missing Fare in Test dataset, and Embarked in training dataset.\n",
    "\n",
    "* Name -> we can extract the Title from Name, then analyse the Correlation coefficient between Title and Survived\n",
    "* Age -> The data is almost normally distributed, so we can impute the value using mean. Also try median value later for a better\n",
    "optimization.\n",
    "* Cabin -> All dataset have more than 70% missing values in this category, we can drop this column.\n",
    "* Embarked -> Remove the row of missing value in this category because there are only two rows of missing value of Embarked.\n"
   ]
  },
  {
   "cell_type": "code",
   "execution_count": 591,
   "outputs": [],
   "source": [
    "# handling missing value training data. use the mean value for missing Age.\n",
    "train_data['Age'].fillna(train_data['Age'].mean(), inplace=True)\n",
    "train_data['Fare'].fillna(train_data['Fare'].mean(), inplace=True)\n",
    "# train_data['Age'].fillna(train_data['Age'].median(), inplace=True)\n",
    "train_data.dropna(subset=['Embarked'], axis=0, inplace=True)\n",
    "\n",
    "# handling missing value test data\n",
    "test_data['Age'].fillna(train_data['Age'].mean(), inplace=True)\n",
    "test_data['Fare'].fillna(train_data['Fare'].mean(), inplace=True)\n",
    "# test_data['Age'].fillna(train_data['Age'].median(), inplace=True)\n",
    "test_data.dropna(subset=['Embarked'], axis=0, inplace=True)"
   ],
   "metadata": {
    "collapsed": false,
    "pycharm": {
     "name": "#%%\n"
    }
   }
  },
  {
   "cell_type": "code",
   "execution_count": 592,
   "outputs": [],
   "source": [
    "# Extract Title from Name\n",
    "for dataframe in (train_data, test_data):\n",
    "    dataframe['Title'] = dataframe['Name'].apply(lambda s: s.split(',')[1].split('.')[0].strip())"
   ],
   "metadata": {
    "collapsed": false,
    "pycharm": {
     "name": "#%%\n"
    }
   }
  },
  {
   "cell_type": "code",
   "execution_count": 593,
   "outputs": [],
   "source": [
    "# drop the name, ticket, cabin columns\n",
    "\n",
    "for dataframe in (train_data, test_data):\n",
    "    dataframe.drop(columns=['Name', 'Ticket', 'Cabin'], inplace=True)"
   ],
   "metadata": {
    "collapsed": false,
    "pycharm": {
     "name": "#%%\n"
    }
   }
  },
  {
   "cell_type": "markdown",
   "source": [
    "### 6. Data preprocessing"
   ],
   "metadata": {
    "collapsed": false,
    "pycharm": {
     "name": "#%% md\n"
    }
   }
  },
  {
   "cell_type": "code",
   "execution_count": 594,
   "outputs": [],
   "source": [
    "# Original data\n",
    "\n",
    "X_train = train_data.drop(columns=['Survived', 'PassengerId'])\n",
    "y_train = train_data['Survived']\n",
    "\n",
    "X_test = test_data.drop(columns=['Survived', 'PassengerId'])\n",
    "y_test = test_data['Survived']\n"
   ],
   "metadata": {
    "collapsed": false,
    "pycharm": {
     "name": "#%%\n"
    }
   }
  },
  {
   "cell_type": "code",
   "execution_count": 595,
   "outputs": [],
   "source": [
    "preprocess = make_column_transformer(\n",
    "    (OrdinalEncoder(), ['Sex', 'Pclass']),\n",
    "    (OneHotEncoder(handle_unknown='ignore'), ['Embarked', 'Title']),\n",
    "    (StandardScaler(), ['Age', 'SibSp', 'Parch', 'Fare'])\n",
    ")\n",
    "\n",
    "pipeline = Pipeline([\n",
    "    ('preprocess', preprocess),\n",
    "])\n",
    "\n",
    "X_train_transformed = pipeline.fit_transform(X_train)\n",
    "X_test_transformed = pipeline.transform(X_test)"
   ],
   "metadata": {
    "collapsed": false,
    "pycharm": {
     "name": "#%%\n"
    }
   }
  },
  {
   "cell_type": "markdown",
   "source": [
    "### 7. Choose the best Model\n"
   ],
   "metadata": {
    "collapsed": false,
    "pycharm": {
     "name": "#%% md\n"
    }
   }
  },
  {
   "cell_type": "markdown",
   "source": [
    "#### 1. LogisticRegression Model"
   ],
   "metadata": {
    "collapsed": false,
    "pycharm": {
     "name": "#%% md\n"
    }
   }
  },
  {
   "cell_type": "code",
   "execution_count": 596,
   "outputs": [
    {
     "name": "stdout",
     "output_type": "stream",
     "text": [
      "[0.83707865 0.82022472 0.80337079 0.79775281 0.86440678]\n",
      "0.8245667491906303\n"
     ]
    }
   ],
   "source": [
    "lr = LogisticRegression(max_iter=2000)\n",
    "cv = cross_val_score(lr, X_train_transformed, y_train, cv=5)\n",
    "print(cv)\n",
    "print(cv.mean())\n"
   ],
   "metadata": {
    "collapsed": false,
    "pycharm": {
     "name": "#%%\n"
    }
   }
  },
  {
   "cell_type": "markdown",
   "source": [
    "#### 2. RandomForestClassifier Model\n"
   ],
   "metadata": {
    "collapsed": false,
    "pycharm": {
     "name": "#%% md\n"
    }
   }
  },
  {
   "cell_type": "code",
   "execution_count": 597,
   "outputs": [
    {
     "name": "stdout",
     "output_type": "stream",
     "text": [
      "[0.79775281 0.79213483 0.85393258 0.75842697 0.81920904]\n",
      "0.8042912461118517\n"
     ]
    }
   ],
   "source": [
    "rf = RandomForestClassifier(random_state=1)\n",
    "cv = cross_val_score(rf, X_train_transformed, y_train, cv=5)\n",
    "print(cv)\n",
    "print(cv.mean())"
   ],
   "metadata": {
    "collapsed": false,
    "pycharm": {
     "name": "#%%\n"
    }
   }
  },
  {
   "cell_type": "markdown",
   "source": [
    "#### 3. DecisionTreeClassifier Model"
   ],
   "metadata": {
    "collapsed": false,
    "pycharm": {
     "name": "#%% md\n"
    }
   }
  },
  {
   "cell_type": "code",
   "execution_count": 598,
   "outputs": [
    {
     "name": "stdout",
     "output_type": "stream",
     "text": [
      "[0.76404494 0.75280899 0.83146067 0.71910112 0.77966102]\n",
      "0.7694153494572462\n"
     ]
    }
   ],
   "source": [
    "dt = DecisionTreeClassifier(random_state=1)\n",
    "cv = cross_val_score(dt, X_train_transformed, y_train, cv=5)\n",
    "print(cv)\n",
    "print(cv.mean())"
   ],
   "metadata": {
    "collapsed": false,
    "pycharm": {
     "name": "#%%\n"
    }
   }
  },
  {
   "cell_type": "markdown",
   "source": [
    "### Fine-tune the model"
   ],
   "metadata": {
    "collapsed": false,
    "pycharm": {
     "name": "#%% md\n"
    }
   }
  },
  {
   "cell_type": "code",
   "execution_count": 599,
   "outputs": [
    {
     "name": "stderr",
     "output_type": "stream",
     "text": [
      "D:\\anaconda3\\lib\\site-packages\\sklearn\\svm\\_base.py:985: ConvergenceWarning: Liblinear failed to converge, increase the number of iterations.\n",
      "  warnings.warn(\"Liblinear failed to converge, increase \"\n"
     ]
    },
    {
     "data": {
      "text/plain": "                 model  best_score                             best_params\n0  logistic_regression    0.826827            {'C': 1000, 'penalty': 'l1'}\n1       random_forests    0.825671  {'max_depth': 10, 'n_estimators': 100}\n2       decision_trees    0.812195                        {'max_depth': 5}",
      "text/html": "<div>\n<style scoped>\n    .dataframe tbody tr th:only-of-type {\n        vertical-align: middle;\n    }\n\n    .dataframe tbody tr th {\n        vertical-align: top;\n    }\n\n    .dataframe thead th {\n        text-align: right;\n    }\n</style>\n<table border=\"1\" class=\"dataframe\">\n  <thead>\n    <tr style=\"text-align: right;\">\n      <th></th>\n      <th>model</th>\n      <th>best_score</th>\n      <th>best_params</th>\n    </tr>\n  </thead>\n  <tbody>\n    <tr>\n      <th>0</th>\n      <td>logistic_regression</td>\n      <td>0.826827</td>\n      <td>{'C': 1000, 'penalty': 'l1'}</td>\n    </tr>\n    <tr>\n      <th>1</th>\n      <td>random_forests</td>\n      <td>0.825671</td>\n      <td>{'max_depth': 10, 'n_estimators': 100}</td>\n    </tr>\n    <tr>\n      <th>2</th>\n      <td>decision_trees</td>\n      <td>0.812195</td>\n      <td>{'max_depth': 5}</td>\n    </tr>\n  </tbody>\n</table>\n</div>"
     },
     "execution_count": 599,
     "metadata": {},
     "output_type": "execute_result"
    }
   ],
   "source": [
    "# Since we only have small dataset, so only use liblinear in solver. then the penalty is l1 and l2\n",
    "model_params = {\n",
    "    'logistic_regression': {\n",
    "        'model': LogisticRegression(solver='liblinear'),\n",
    "        'params': {\n",
    "            'penalty': ['l1', 'l2'],\n",
    "            'C': [1, 10, 100, 1000, 5000, 10000],\n",
    "        }\n",
    "    },\n",
    "    'random_forests': {\n",
    "        'model': RandomForestClassifier(random_state=1),\n",
    "        'params': {\n",
    "            'n_estimators': [1, 5, 10, 50, 100, 200],\n",
    "            'max_depth': [1, 5, 10, 20],\n",
    "        }\n",
    "    },\n",
    "    'decision_trees': {\n",
    "        'model': DecisionTreeClassifier(random_state=1),\n",
    "        'params': {\n",
    "            'max_depth': [1, 5, 10, 20],\n",
    "        }\n",
    "    }\n",
    "}\n",
    "\n",
    "result_scores = []\n",
    "for model_name, mp in model_params.items():\n",
    "    clf = GridSearchCV(mp['model'], mp['params'], cv=5, return_train_score=False)\n",
    "    clf.fit(X_train_transformed, y_train)\n",
    "    result_scores.append({\n",
    "        'model': model_name,\n",
    "        'best_score': clf.best_score_,\n",
    "        'best_params': clf.best_params_\n",
    "    })\n",
    "\n",
    "df = pd.DataFrame(result_scores, columns=['model', 'best_score', 'best_params'])\n",
    "df"
   ],
   "metadata": {
    "collapsed": false,
    "pycharm": {
     "name": "#%%\n"
    }
   }
  },
  {
   "cell_type": "code",
   "execution_count": 600,
   "outputs": [
    {
     "name": "stdout",
     "output_type": "stream",
     "text": [
      "The Prediction Results of Logistic Regression:\n",
      "[0 1 0 0 1 0 1 0 1 0 0 0 1 0 1 1 0 0 0 1 0 1 1 1 1 0 1 0 0 0 0 0 0 1 0 0 1\n",
      " 1 0 0 0 0 0 1 1 0 0 0 1 1 0 0 1 1 0 0 0 0 0 1 0 0 0 1 1 1 1 0 1 1 1 0 1 1\n",
      " 1 1 0 1 0 1 1 0 0 0 0 0 1 1 1 1 1 0 1 0 1 0 1 0 1 0 1 0 0 0 1 0 0 0 0 0 0\n",
      " 1 1 1 1 0 0 1 1 1 1 0 1 0 0 1 0 0 0 0 0 1 0 0 0 0 0 0 1 0 0 1 0 0 0 0 0 0\n",
      " 0 0 1 0 0 1 0 0 1 1 0 1 1 1 1 0 0 1 0 0 1 1 0 0 0 0 0 1 1 0 1 1 0 0 1 0 1\n",
      " 0 1 0 0 0 0 0 1 0 1 0 1 1 0 1 1 1 1 1 0 1 1 0 1 0 0 0 0 1 0 0 1 0 1 0 1 0\n",
      " 1 0 1 1 0 1 0 0 0 1 0 0 0 0 0 0 1 1 1 1 0 0 0 0 1 0 1 1 1 0 0 0 0 0 0 0 1\n",
      " 0 0 0 1 1 0 0 0 0 1 0 0 0 1 1 0 1 0 0 0 0 1 1 1 1 1 0 0 0 0 0 0 1 0 0 0 0\n",
      " 1 0 0 0 0 0 0 0 1 1 0 1 0 1 0 0 0 1 1 1 0 0 0 0 0 0 0 0 1 0 1 0 0 0 1 0 0\n",
      " 1 0 0 0 0 0 1 0 0 0 1 1 1 0 1 0 1 1 0 0 0 1 0 1 0 0 1 0 1 1 0 1 0 0 1 1 0\n",
      " 0 1 0 0 1 1 0 0 0 0 0 0 1 1 0 1 0 0 0 0 1 1 1 0 0 1 0 1 0 0 1 0 1 1 0 0 0\n",
      " 0 1 1 1 1 1 0 1 0 0 1]\n",
      "0.7727272727272727\n",
      "              precision    recall  f1-score   support\n",
      "\n",
      "           0       0.83      0.80      0.81       260\n",
      "           1       0.69      0.73      0.71       158\n",
      "\n",
      "    accuracy                           0.77       418\n",
      "   macro avg       0.76      0.77      0.76       418\n",
      "weighted avg       0.78      0.77      0.77       418\n",
      "\n"
     ]
    }
   ],
   "source": [
    "### Use the best model with the params from above\n",
    "\n",
    "lr = LogisticRegression(solver='liblinear', penalty='l2', C=5000)\n",
    "lr.fit(X_train_transformed, y_train)\n",
    "y_pred = lr.predict(X_test_transformed).astype(int)\n",
    "lr_acc = accuracy_score(y_test, y_pred)\n",
    "print('The Prediction Results of Logistic Regression:')\n",
    "print(y_pred)\n",
    "print(lr_acc)\n",
    "print(classification_report(y_test, y_pred))\n"
   ],
   "metadata": {
    "collapsed": false,
    "pycharm": {
     "name": "#%%\n"
    }
   }
  }
 ],
 "metadata": {
  "kernelspec": {
   "display_name": "PyCharm (assessment1)",
   "language": "python",
   "name": "pycharm-334b66da"
  },
  "language_info": {
   "codemirror_mode": {
    "name": "ipython",
    "version": 3
   },
   "file_extension": ".py",
   "mimetype": "text/x-python",
   "name": "python",
   "nbconvert_exporter": "python",
   "pygments_lexer": "ipython3",
   "version": "3.9.7"
  }
 },
 "nbformat": 4,
 "nbformat_minor": 1
}